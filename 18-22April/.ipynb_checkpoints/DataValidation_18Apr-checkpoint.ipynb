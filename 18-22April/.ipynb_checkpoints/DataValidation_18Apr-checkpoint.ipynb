{
 "cells": [
  {
   "cell_type": "code",
   "execution_count": 1,
   "id": "d19120e3",
   "metadata": {},
   "outputs": [],
   "source": [
    "import pandas as pd\n",
    "from numpy import mean\n",
    "\n",
    "df = pd.read_csv('./data.csv')\n"
   ]
  },
  {
   "cell_type": "code",
   "execution_count": 2,
   "id": "6659f16e",
   "metadata": {},
   "outputs": [],
   "source": [
    "CrashesDF = df[df['Record Type'] == 1]\n",
    "VehiclesDF = df[df['Record Type'] == 2]\n",
    "ParticipantsDF = df[df['Record Type'] == 3]\n",
    "\n",
    "CrashesDF = CrashesDF.dropna(axis=1,how='all')\n",
    "VehiclesDF = VehiclesDF.dropna(axis=1,how='all')\n",
    "ParticipantsDF = ParticipantsDF.dropna(axis=1,how='all')\n"
   ]
  },
  {
   "cell_type": "code",
   "execution_count": 3,
   "id": "4eeb81ac",
   "metadata": {},
   "outputs": [
    {
     "name": "stdout",
     "output_type": "stream",
     "text": [
      "All crashes occuurred during year 2019\n"
     ]
    }
   ],
   "source": [
    "#Check if every crash occuurred during year 2019\n",
    "crash_year = df['Crash Year']\n",
    "\n",
    "if ((CrashesDF['Crash Year'] == 2019.0).all()):\n",
    "    print(\"All crashes occuurred during year 2019\")\n",
    "else:\n",
    "    print(\"WARN: Some crashed did not occurr in 2019\")"
   ]
  },
  {
   "cell_type": "code",
   "execution_count": 4,
   "id": "73233e40",
   "metadata": {},
   "outputs": [
    {
     "name": "stdout",
     "output_type": "stream",
     "text": [
      "All crashes occuurred on highway 26\n"
     ]
    }
   ],
   "source": [
    "#Check if every crash occuurred on highway 26\n",
    "if (CrashesDF['Highway Number'] == 26).all():\n",
    "    print(\"All crashes occuurred on highway 26\")\n",
    "else:\n",
    "    print(\"WARN: Some crashed did not occurr on highway 26\")"
   ]
  },
  {
   "cell_type": "code",
   "execution_count": 11,
   "id": "630ab295",
   "metadata": {},
   "outputs": [
    {
     "name": "stdout",
     "output_type": "stream",
     "text": [
      "All crashes has a date\n"
     ]
    }
   ],
   "source": [
    "#Every Crash occurred on a date\n",
    "if(CrashesDF['Crash Year'].isnull().values.any() or\n",
    "   CrashesDF['Crash Month'].isnull().values.any() or\n",
    "   CrashesDF['Crash Day'].isnull().values.any()):\n",
    "    print(\"WARN: Some crashes does not have a date\")\n",
    "else:\n",
    "    print(\"All crashes has a date\")"
   ]
  },
  {
   "cell_type": "code",
   "execution_count": 10,
   "id": "7fd71b7a",
   "metadata": {},
   "outputs": [
    {
     "name": "stdout",
     "output_type": "stream",
     "text": [
      "Crash Year fails!\n",
      "Crash Month fails!\n",
      "Crash Day fails!\n",
      "WARN: Some crashes does not have a date\n"
     ]
    }
   ],
   "source": [
    "#Every Crash occurred on a date\n",
    "columns=['Crash Year', 'Crash Month', 'Crash Day']\n",
    "flag=True\n",
    "\n",
    "for col in columns:\n",
    "    if(CrashesDF[col].isnull().values.any()):\n",
    "        print(col+\" fails!\")\n",
    "        flag=False\n",
    "        \n",
    "if(flag):\n",
    "    print(\"All crashes has a date\")\n",
    "else:\n",
    "    print(\"WARN: Some crashes does not have a date\")"
   ]
  },
  {
   "cell_type": "code",
   "execution_count": 83,
   "id": "589d1bf5",
   "metadata": {},
   "outputs": [
    {
     "name": "stdout",
     "output_type": "stream",
     "text": [
      "Every crash has a unique ID\n"
     ]
    }
   ],
   "source": [
    "#“Every crash has a unique ID”\n",
    "if(CrashesDF['Crash ID'].is_unique):\n",
    "    print(\"Every crash has a unique ID\")\n",
    "else:\n",
    "    print(\"WARN: Every crash does not have a unique ID\")"
   ]
  },
  {
   "cell_type": "code",
   "execution_count": null,
   "id": "e590d0b1",
   "metadata": {},
   "outputs": [],
   "source": []
  },
  {
   "cell_type": "code",
   "execution_count": 39,
   "id": "402f5b32",
   "metadata": {},
   "outputs": [
    {
     "name": "stdout",
     "output_type": "stream",
     "text": [
      "Longitude details are present along with Latitude details for all crashes\n"
     ]
    }
   ],
   "source": [
    "#“Latitude and Longitude must present together”\n",
    "if(not CrashesDF['Latitude Degrees'].isnull().values.any() and not CrashesDF['Latitude Minutes'].isnull().values.any()\n",
    "  and not CrashesDF['Latitude Seconds'].isnull().values.any()):\n",
    "    if(not CrashesDF['Longitude Degrees'].isnull().values.any() and not CrashesDF['Longitude Minutes'].isnull().values.any()\n",
    "      and not CrashesDF['Longitude Seconds'].isnull().values.any()):\n",
    "        print(\"Longitude details are present along with Latitude details for all crashes\")\n",
    "    else:\n",
    "        print(\"Latitude details are present but Longitude details are missing for some crashes\")\n",
    "else:\n",
    "    print(\"Latitude details are missing for some crashes\")"
   ]
  },
  {
   "cell_type": "code",
   "execution_count": 42,
   "id": "b1829ecc",
   "metadata": {},
   "outputs": [],
   "source": [
    "#Every vehicle listed in the crash data was part of a known crash\n",
    "#VehiclesDF['Vehicle ID'].isin()\n",
    "#print(VehiclesDF)"
   ]
  },
  {
   "cell_type": "code",
   "execution_count": 42,
   "id": "debfc1a9",
   "metadata": {},
   "outputs": [
    {
     "name": "stdout",
     "output_type": "stream",
     "text": [
      "There are thousands of crashes not millions\n"
     ]
    }
   ],
   "source": [
    "#“There were thousands of crashes but not millions”\n",
    "if(len(CrashesDF['Crash ID']) < 1000000):\n",
    "    print(\"There are thousands of crashes not millions\");\n",
    "else:\n",
    "    print(\"There are millions of crashes\");"
   ]
  },
  {
   "cell_type": "code",
   "execution_count": null,
   "id": "d993031d",
   "metadata": {},
   "outputs": [],
   "source": []
  },
  {
   "cell_type": "code",
   "execution_count": 39,
   "id": "33315ef1",
   "metadata": {},
   "outputs": [
    {
     "name": "stdout",
     "output_type": "stream",
     "text": [
      "Every vehicle listed in the crash data was part of a known crash\n"
     ]
    }
   ],
   "source": [
    "#“Every vehicle listed in the crash data was part of a known crash”\n",
    "if(VehiclesDF['Crash ID'].isnull().values.any()):\n",
    "    print(\"Some vehicles are not associated with any Crash ID\")\n",
    "else:\n",
    "    print(\"Every vehicle listed in the crash data was part of a known crash\")"
   ]
  },
  {
   "cell_type": "code",
   "execution_count": 44,
   "id": "47a9997e",
   "metadata": {},
   "outputs": [
    {
     "name": "stdout",
     "output_type": "stream",
     "text": [
      "Every participant listed in the crash data was part of a known crash\n"
     ]
    }
   ],
   "source": [
    "#“Every participant record is part of crash”\n",
    "if(ParticipantsDF['Crash ID'].isnull().values.any()):\n",
    "    print(\"Some participants are not associated with any Crash ID\")\n",
    "else:\n",
    "    print(\"Every participant listed in the crash data was part of a known crash\")"
   ]
  },
  {
   "cell_type": "code",
   "execution_count": 77,
   "id": "e5a83a60",
   "metadata": {},
   "outputs": [
    {
     "name": "stdout",
     "output_type": "stream",
     "text": [
      "There is at least one vehicle per crash\n",
      "There is at least one participant per crash\n"
     ]
    }
   ],
   "source": [
    "vehDupCrashID = 0\n",
    "#print(VehiclesDF.duplicated('Crash ID'))\n",
    "\n",
    "vdf = df.groupby(['Crash ID', 'Vehicle ID']).size().reset_index(name='count')\n",
    "if((vdf['count'] >= 1).all()):\n",
    "    print(\"There is at least one vehicle per crash\")\n",
    "else:\n",
    "    print(\"There are few crashes which does not include any vehicle record\")\n",
    "    \n",
    "pdf = ParticipantsDF.groupby(['Crash ID']).size().reset_index(name='count')\n",
    "if((pdf['count'] >= 1).all()):\n",
    "    print(\"There is at least one participant per crash\")\n",
    "else:\n",
    "    print(\"There are few crashes which does not include any participant record\")"
   ]
  },
  {
   "cell_type": "code",
   "execution_count": 85,
   "id": "3c44ae35",
   "metadata": {},
   "outputs": [
    {
     "name": "stdout",
     "output_type": "stream",
     "text": [
      "crashes are evenly/uniformly distributed throughout the months of the year\n"
     ]
    }
   ],
   "source": [
    "\n",
    "if(5 <= mean(CrashesDF['Crash Month']) or mean(CrashesDF['Crash Month']) >= 7 ):\n",
    "    print(\"crashes are evenly/uniformly distributed throughout the months of the year\")\n",
    "else:\n",
    "    print(\"crashes are not uniformly distributed throughout the months of the year\")"
   ]
  },
  {
   "cell_type": "code",
   "execution_count": 78,
   "id": "fd16beff",
   "metadata": {},
   "outputs": [],
   "source": [
    "CrashesDF.to_csv(r'C:\\Users\\rucha\\Desktop\\Rucha-PSU\\Spring2022\\DataEngineering\\InClass Assignments\\18April\\Crashes.csv', index=False)\n",
    "VehiclesDF.to_csv(r'C:\\Users\\rucha\\Desktop\\Rucha-PSU\\Spring2022\\DataEngineering\\InClass Assignments\\18April\\Vehicles.csv', index=False)\n",
    "ParticipantsDF.to_csv(r'C:\\Users\\rucha\\Desktop\\Rucha-PSU\\Spring2022\\DataEngineering\\InClass Assignments\\18April\\Participants.csv', index=False)"
   ]
  },
  {
   "cell_type": "code",
   "execution_count": null,
   "id": "14536014",
   "metadata": {},
   "outputs": [],
   "source": []
  }
 ],
 "metadata": {
  "kernelspec": {
   "display_name": "Python 3 (ipykernel)",
   "language": "python",
   "name": "python3"
  },
  "language_info": {
   "codemirror_mode": {
    "name": "ipython",
    "version": 3
   },
   "file_extension": ".py",
   "mimetype": "text/x-python",
   "name": "python",
   "nbconvert_exporter": "python",
   "pygments_lexer": "ipython3",
   "version": "3.9.7"
  }
 },
 "nbformat": 4,
 "nbformat_minor": 5
}
